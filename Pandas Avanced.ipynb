{
 "cells": [
  {
   "cell_type": "code",
   "execution_count": 5,
   "metadata": {},
   "outputs": [],
   "source": [
    "import pandas as pd\n",
    "import numpy as np\n",
    "from pandas import DataFrame, Series\n",
    "%matplotlib inline"
   ]
  },
  {
   "cell_type": "code",
   "execution_count": 6,
   "metadata": {},
   "outputs": [
    {
     "data": {
      "text/html": [
       "<div>\n",
       "<style scoped>\n",
       "    .dataframe tbody tr th:only-of-type {\n",
       "        vertical-align: middle;\n",
       "    }\n",
       "\n",
       "    .dataframe tbody tr th {\n",
       "        vertical-align: top;\n",
       "    }\n",
       "\n",
       "    .dataframe thead th {\n",
       "        text-align: right;\n",
       "    }\n",
       "</style>\n",
       "<table border=\"1\" class=\"dataframe\">\n",
       "  <thead>\n",
       "    <tr style=\"text-align: right;\">\n",
       "      <th></th>\n",
       "      <th>Year</th>\n",
       "      <th>Title</th>\n",
       "      <th>Comic</th>\n",
       "      <th>IMDB</th>\n",
       "      <th>RT</th>\n",
       "      <th>CompositeRating</th>\n",
       "      <th>OpeningWeekendBoxOffice</th>\n",
       "      <th>AvgTicketPriceThatYear</th>\n",
       "      <th>EstdOpeningAttendance</th>\n",
       "      <th>USPopThatYear</th>\n",
       "    </tr>\n",
       "  </thead>\n",
       "  <tbody>\n",
       "    <tr>\n",
       "      <th>0</th>\n",
       "      <td>1978</td>\n",
       "      <td>Superman</td>\n",
       "      <td>DC</td>\n",
       "      <td>7.3</td>\n",
       "      <td>95</td>\n",
       "      <td>84.0</td>\n",
       "      <td>7465343.0</td>\n",
       "      <td>2.34</td>\n",
       "      <td>3190317.521</td>\n",
       "      <td>222584545</td>\n",
       "    </tr>\n",
       "    <tr>\n",
       "      <th>1</th>\n",
       "      <td>1980</td>\n",
       "      <td>Superman II</td>\n",
       "      <td>DC</td>\n",
       "      <td>6.7</td>\n",
       "      <td>88</td>\n",
       "      <td>77.5</td>\n",
       "      <td>14100523.0</td>\n",
       "      <td>2.69</td>\n",
       "      <td>5241830.112</td>\n",
       "      <td>227224681</td>\n",
       "    </tr>\n",
       "    <tr>\n",
       "      <th>2</th>\n",
       "      <td>1982</td>\n",
       "      <td>Swamp Thing</td>\n",
       "      <td>DC</td>\n",
       "      <td>5.3</td>\n",
       "      <td>60</td>\n",
       "      <td>56.5</td>\n",
       "      <td>NaN</td>\n",
       "      <td>2.94</td>\n",
       "      <td>NaN</td>\n",
       "      <td>231664458</td>\n",
       "    </tr>\n",
       "    <tr>\n",
       "      <th>3</th>\n",
       "      <td>1983</td>\n",
       "      <td>Superman III</td>\n",
       "      <td>DC</td>\n",
       "      <td>4.9</td>\n",
       "      <td>24</td>\n",
       "      <td>36.5</td>\n",
       "      <td>13352357.0</td>\n",
       "      <td>3.15</td>\n",
       "      <td>4238843.492</td>\n",
       "      <td>233791994</td>\n",
       "    </tr>\n",
       "    <tr>\n",
       "      <th>4</th>\n",
       "      <td>1984</td>\n",
       "      <td>Supergirl</td>\n",
       "      <td>DC</td>\n",
       "      <td>4.2</td>\n",
       "      <td>8</td>\n",
       "      <td>25.0</td>\n",
       "      <td>5738249.0</td>\n",
       "      <td>3.36</td>\n",
       "      <td>1707812.202</td>\n",
       "      <td>235824902</td>\n",
       "    </tr>\n",
       "  </tbody>\n",
       "</table>\n",
       "</div>"
      ],
      "text/plain": [
       "   Year         Title Comic  IMDB  RT  CompositeRating  \\\n",
       "0  1978      Superman    DC   7.3  95             84.0   \n",
       "1  1980   Superman II    DC   6.7  88             77.5   \n",
       "2  1982   Swamp Thing    DC   5.3  60             56.5   \n",
       "3  1983  Superman III    DC   4.9  24             36.5   \n",
       "4  1984     Supergirl    DC   4.2   8             25.0   \n",
       "\n",
       "   OpeningWeekendBoxOffice  AvgTicketPriceThatYear  EstdOpeningAttendance  \\\n",
       "0                7465343.0                    2.34            3190317.521   \n",
       "1               14100523.0                    2.69            5241830.112   \n",
       "2                      NaN                    2.94                    NaN   \n",
       "3               13352357.0                    3.15            4238843.492   \n",
       "4                5738249.0                    3.36            1707812.202   \n",
       "\n",
       "   USPopThatYear  \n",
       "0      222584545  \n",
       "1      227224681  \n",
       "2      231664458  \n",
       "3      233791994  \n",
       "4      235824902  "
      ]
     },
     "execution_count": 6,
     "metadata": {},
     "output_type": "execute_result"
    }
   ],
   "source": [
    "sh_raw = pd.read_csv('C:\\superhero\\superhero-movie-dataset-1978-2012.csv',\n",
    "    header=None,\n",
    "    names=['Year','Title','Comic','IMDB','RT','CompositeRating','OpeningWeekendBoxOffice',\n",
    "    'AvgTicketPriceThatYear','EstdOpeningAttendance','USPopThatYear'])\n",
    "sh_raw.head(5)"
   ]
  },
  {
   "cell_type": "code",
   "execution_count": 7,
   "metadata": {},
   "outputs": [
    {
     "data": {
      "text/html": [
       "<div>\n",
       "<style scoped>\n",
       "    .dataframe tbody tr th:only-of-type {\n",
       "        vertical-align: middle;\n",
       "    }\n",
       "\n",
       "    .dataframe tbody tr th {\n",
       "        vertical-align: top;\n",
       "    }\n",
       "\n",
       "    .dataframe thead th {\n",
       "        text-align: right;\n",
       "    }\n",
       "</style>\n",
       "<table border=\"1\" class=\"dataframe\">\n",
       "  <thead>\n",
       "    <tr style=\"text-align: right;\">\n",
       "      <th></th>\n",
       "      <th>Year</th>\n",
       "      <th>Title</th>\n",
       "      <th>Comic</th>\n",
       "      <th>IMDB</th>\n",
       "      <th>RT</th>\n",
       "      <th>CompositeRating</th>\n",
       "      <th>OpeningWeekendBoxOffice</th>\n",
       "      <th>AvgTicketPriceThatYear</th>\n",
       "      <th>EstdOpeningAttendance</th>\n",
       "      <th>USPopThatYear</th>\n",
       "    </tr>\n",
       "  </thead>\n",
       "  <tbody>\n",
       "    <tr>\n",
       "      <th>0</th>\n",
       "      <td>1978</td>\n",
       "      <td>Superman</td>\n",
       "      <td>DC</td>\n",
       "      <td>7.3</td>\n",
       "      <td>95</td>\n",
       "      <td>84.0</td>\n",
       "      <td>7465343.0</td>\n",
       "      <td>2.34</td>\n",
       "      <td>3190317.521</td>\n",
       "      <td>222584545</td>\n",
       "    </tr>\n",
       "    <tr>\n",
       "      <th>1</th>\n",
       "      <td>1980</td>\n",
       "      <td>Superman II</td>\n",
       "      <td>DC</td>\n",
       "      <td>6.7</td>\n",
       "      <td>88</td>\n",
       "      <td>77.5</td>\n",
       "      <td>14100523.0</td>\n",
       "      <td>2.69</td>\n",
       "      <td>5241830.112</td>\n",
       "      <td>227224681</td>\n",
       "    </tr>\n",
       "    <tr>\n",
       "      <th>3</th>\n",
       "      <td>1983</td>\n",
       "      <td>Superman III</td>\n",
       "      <td>DC</td>\n",
       "      <td>4.9</td>\n",
       "      <td>24</td>\n",
       "      <td>36.5</td>\n",
       "      <td>13352357.0</td>\n",
       "      <td>3.15</td>\n",
       "      <td>4238843.492</td>\n",
       "      <td>233791994</td>\n",
       "    </tr>\n",
       "    <tr>\n",
       "      <th>4</th>\n",
       "      <td>1984</td>\n",
       "      <td>Supergirl</td>\n",
       "      <td>DC</td>\n",
       "      <td>4.2</td>\n",
       "      <td>8</td>\n",
       "      <td>25.0</td>\n",
       "      <td>5738249.0</td>\n",
       "      <td>3.36</td>\n",
       "      <td>1707812.202</td>\n",
       "      <td>235824902</td>\n",
       "    </tr>\n",
       "    <tr>\n",
       "      <th>5</th>\n",
       "      <td>1986</td>\n",
       "      <td>Howard the Duck</td>\n",
       "      <td>Marvel</td>\n",
       "      <td>4.3</td>\n",
       "      <td>16</td>\n",
       "      <td>29.5</td>\n",
       "      <td>5070136.0</td>\n",
       "      <td>3.71</td>\n",
       "      <td>1366613.477</td>\n",
       "      <td>240132887</td>\n",
       "    </tr>\n",
       "  </tbody>\n",
       "</table>\n",
       "</div>"
      ],
      "text/plain": [
       "   Year            Title   Comic  IMDB  RT  CompositeRating  \\\n",
       "0  1978         Superman      DC   7.3  95             84.0   \n",
       "1  1980      Superman II      DC   6.7  88             77.5   \n",
       "3  1983     Superman III      DC   4.9  24             36.5   \n",
       "4  1984        Supergirl      DC   4.2   8             25.0   \n",
       "5  1986  Howard the Duck  Marvel   4.3  16             29.5   \n",
       "\n",
       "   OpeningWeekendBoxOffice  AvgTicketPriceThatYear  EstdOpeningAttendance  \\\n",
       "0                7465343.0                    2.34            3190317.521   \n",
       "1               14100523.0                    2.69            5241830.112   \n",
       "3               13352357.0                    3.15            4238843.492   \n",
       "4                5738249.0                    3.36            1707812.202   \n",
       "5                5070136.0                    3.71            1366613.477   \n",
       "\n",
       "   USPopThatYear  \n",
       "0      222584545  \n",
       "1      227224681  \n",
       "3      233791994  \n",
       "4      235824902  \n",
       "5      240132887  "
      ]
     },
     "execution_count": 7,
     "metadata": {},
     "output_type": "execute_result"
    }
   ],
   "source": [
    "sh = sh_raw[np.isfinite(sh_raw.OpeningWeekendBoxOffice)]\n",
    "sh.head(5)"
   ]
  },
  {
   "cell_type": "code",
   "execution_count": 8,
   "metadata": {},
   "outputs": [],
   "source": [
    "# Normalize the scores\n",
    "imdb_normalized = sh.IMDB / 10   # IMDB scores out of 10\n",
    "sh.insert(9,'IMDBNormalized', imdb_normalized)\n",
    "rt_normalized = sh.RT/100        # RT scores out of 100\n",
    "sh.insert(9, 'RTNormalized', rt_normalized)\n"
   ]
  },
  {
   "cell_type": "code",
   "execution_count": 9,
   "metadata": {},
   "outputs": [
    {
     "data": {
      "text/plain": [
       "<matplotlib.axes._subplots.AxesSubplot at 0x211d782d648>"
      ]
     },
     "execution_count": 9,
     "metadata": {},
     "output_type": "execute_result"
    },
    {
     "data": {
      "image/png": "[encoded data removed]",
      "text/plain": [
       "<Figure size 432x288 with 1 Axes>"
      ]
     },
     "metadata": {
      "needs_background": "light"
     },
     "output_type": "display_data"
    }
   ],
   "source": [
    "sh.plot.scatter(x = 'RTNormalized' , y='IMDBNormalized')"
   ]
  },
  {
   "cell_type": "code",
   "execution_count": 10,
   "metadata": {},
   "outputs": [
    {
     "data": {
      "text/html": [
       "<div>\n",
       "<style scoped>\n",
       "    .dataframe tbody tr th:only-of-type {\n",
       "        vertical-align: middle;\n",
       "    }\n",
       "\n",
       "    .dataframe tbody tr th {\n",
       "        vertical-align: top;\n",
       "    }\n",
       "\n",
       "    .dataframe thead th {\n",
       "        text-align: right;\n",
       "    }\n",
       "</style>\n",
       "<table border=\"1\" class=\"dataframe\">\n",
       "  <thead>\n",
       "    <tr style=\"text-align: right;\">\n",
       "      <th></th>\n",
       "      <th>RTNormalized</th>\n",
       "      <th>IMDBNormalized</th>\n",
       "    </tr>\n",
       "  </thead>\n",
       "  <tbody>\n",
       "    <tr>\n",
       "      <th>RTNormalized</th>\n",
       "      <td>1.00000</td>\n",
       "      <td>0.88836</td>\n",
       "    </tr>\n",
       "    <tr>\n",
       "      <th>IMDBNormalized</th>\n",
       "      <td>0.88836</td>\n",
       "      <td>1.00000</td>\n",
       "    </tr>\n",
       "  </tbody>\n",
       "</table>\n",
       "</div>"
      ],
      "text/plain": [
       "                RTNormalized  IMDBNormalized\n",
       "RTNormalized         1.00000         0.88836\n",
       "IMDBNormalized       0.88836         1.00000"
      ]
     },
     "execution_count": 10,
     "metadata": {},
     "output_type": "execute_result"
    }
   ],
   "source": [
    "sh[['RTNormalized' , 'IMDBNormalized']].corr()"
   ]
  },
  {
   "cell_type": "code",
   "execution_count": 11,
   "metadata": {},
   "outputs": [
    {
     "data": {
      "text/html": [
       "<div>\n",
       "<style scoped>\n",
       "    .dataframe tbody tr th:only-of-type {\n",
       "        vertical-align: middle;\n",
       "    }\n",
       "\n",
       "    .dataframe tbody tr th {\n",
       "        vertical-align: top;\n",
       "    }\n",
       "\n",
       "    .dataframe thead th {\n",
       "        text-align: right;\n",
       "    }\n",
       "</style>\n",
       "<table border=\"1\" class=\"dataframe\">\n",
       "  <thead>\n",
       "    <tr style=\"text-align: right;\">\n",
       "      <th></th>\n",
       "      <th>RTNormalized</th>\n",
       "      <th>IMDBNormalized</th>\n",
       "    </tr>\n",
       "  </thead>\n",
       "  <tbody>\n",
       "    <tr>\n",
       "      <th>count</th>\n",
       "      <td>46.000000</td>\n",
       "      <td>46.000000</td>\n",
       "    </tr>\n",
       "    <tr>\n",
       "      <th>mean</th>\n",
       "      <td>0.539783</td>\n",
       "      <td>0.630000</td>\n",
       "    </tr>\n",
       "    <tr>\n",
       "      <th>std</th>\n",
       "      <td>0.302129</td>\n",
       "      <td>0.152898</td>\n",
       "    </tr>\n",
       "    <tr>\n",
       "      <th>min</th>\n",
       "      <td>0.080000</td>\n",
       "      <td>0.270000</td>\n",
       "    </tr>\n",
       "    <tr>\n",
       "      <th>25%</th>\n",
       "      <td>0.260000</td>\n",
       "      <td>0.540000</td>\n",
       "    </tr>\n",
       "    <tr>\n",
       "      <th>50%</th>\n",
       "      <td>0.605000</td>\n",
       "      <td>0.665000</td>\n",
       "    </tr>\n",
       "    <tr>\n",
       "      <th>75%</th>\n",
       "      <td>0.812500</td>\n",
       "      <td>0.740000</td>\n",
       "    </tr>\n",
       "    <tr>\n",
       "      <th>max</th>\n",
       "      <td>0.950000</td>\n",
       "      <td>0.910000</td>\n",
       "    </tr>\n",
       "  </tbody>\n",
       "</table>\n",
       "</div>"
      ],
      "text/plain": [
       "       RTNormalized  IMDBNormalized\n",
       "count     46.000000       46.000000\n",
       "mean       0.539783        0.630000\n",
       "std        0.302129        0.152898\n",
       "min        0.080000        0.270000\n",
       "25%        0.260000        0.540000\n",
       "50%        0.605000        0.665000\n",
       "75%        0.812500        0.740000\n",
       "max        0.950000        0.910000"
      ]
     },
     "execution_count": 11,
     "metadata": {},
     "output_type": "execute_result"
    }
   ],
   "source": [
    "sh[['RTNormalized' , 'IMDBNormalized']].describe()"
   ]
  },
  {
   "cell_type": "code",
   "execution_count": 12,
   "metadata": {},
   "outputs": [
    {
     "data": {
      "text/plain": [
       "<matplotlib.axes._subplots.AxesSubplot at 0x211d7fc8408>"
      ]
     },
     "execution_count": 12,
     "metadata": {},
     "output_type": "execute_result"
    },
    {
     "data": {
      "image/png": "[encoded data removed]",
      "text/plain": [
       "<Figure size 432x288 with 1 Axes>"
      ]
     },
     "metadata": {
      "needs_background": "light"
     },
     "output_type": "display_data"
    }
   ],
   "source": [
    "plt = sh.plot.scatter(x='RTNormalized',y='EstdOpeningAttendance', marker='x', color='Red', label='Rotten Tomatoes')\n",
    "plt = sh.plot.scatter(x='IMDBNormalized',y='EstdOpeningAttendance', marker='o', ax=plt, color='Blue', label='IMDB')\n",
    "plt.set_xlabel(\"Normalized Score [0-1]\")\n",
    "plt.set_ylabel(\"Estd. Opening Weekend Attendance\")\n",
    "plt"
   ]
  },
  {
   "cell_type": "code",
   "execution_count": 13,
   "metadata": {},
   "outputs": [
    {
     "data": {
      "text/plain": [
       "<matplotlib.axes._subplots.AxesSubplot at 0x211d7f656c8>"
      ]
     },
     "execution_count": 13,
     "metadata": {},
     "output_type": "execute_result"
    },
    {
     "data": {
      "image/png": "[encoded data removed]",
      "text/plain": [
       "<Figure size 432x288 with 1 Axes>"
      ]
     },
     "metadata": {
      "needs_background": "light"
     },
     "output_type": "display_data"
    }
   ],
   "source": [
    "plt = sh.plot.scatter(x = 'Year', y='AvgTicketPriceThatYear')\n",
    "z = np.polyfit(x=sh.Year,y=sh.AvgTicketPriceThatYear, deg=5)\n",
    "p = np.poly1d(z)\n",
    "trendline = pd.DataFrame(data=p(sh.Year), index=sh.Year)\n",
    "trendline.plot.line(ax=plt, color='Green')"
   ]
  },
  {
   "cell_type": "code",
   "execution_count": null,
   "metadata": {},
   "outputs": [],
   "source": []
  }
 ],
 "metadata": {
  "kernelspec": {
   "display_name": "Python 3",
   "language": "python",
   "name": "python3"
  },
  "language_info": {
   "codemirror_mode": {
    "name": "ipython",
    "version": 3
   },
   "file_extension": ".py",
   "mimetype": "text/x-python",
   "name": "python",
   "nbconvert_exporter": "python",
   "pygments_lexer": "ipython3",
   "version": "3.7.6"
  }
 },
 "nbformat": 4,
 "nbformat_minor": 4
}
